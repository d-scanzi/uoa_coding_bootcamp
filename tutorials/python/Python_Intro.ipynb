{
 "cells": [
  {
   "cell_type": "markdown",
   "id": "80822676-a2c5-43d7-af86-76dac3a3fd66",
   "metadata": {},
   "source": [
    "In this notebook we will go through some basic notions for Python."
   ]
  },
  {
   "cell_type": "markdown",
   "id": "9c153f09-6109-48e8-a8f8-8a00128ccbe0",
   "metadata": {},
   "source": [
    "## Basics\n",
    "\n",
    "The simplest way you can use Python is as a calculator. For example, if you run the following cell, you should obtain *64*."
   ]
  },
  {
   "cell_type": "code",
   "execution_count": 1,
   "id": "e28252b0-2480-4fdf-9b2c-772e5f4e0bbd",
   "metadata": {},
   "outputs": [
    {
     "data": {
      "text/plain": [
       "64"
      ]
     },
     "execution_count": 1,
     "metadata": {},
     "output_type": "execute_result"
    }
   ],
   "source": [
    "8 * 8"
   ]
  },
  {
   "cell_type": "markdown",
   "id": "06c52449-9bef-402c-91ba-2cd219238fdd",
   "metadata": {},
   "source": [
    "Now try to type 100 - 70 "
   ]
  },
  {
   "cell_type": "code",
   "execution_count": null,
   "id": "cbb54a86-8be3-488c-a4fb-a5493bc9ff9f",
   "metadata": {},
   "outputs": [],
   "source": []
  },
  {
   "cell_type": "markdown",
   "id": "7192dafd-89a3-475b-a29c-f92fc22e204b",
   "metadata": {},
   "source": [
    "We can also do something more complex. Try to run the next line"
   ]
  },
  {
   "cell_type": "code",
   "execution_count": null,
   "id": "ff5c4618-e86f-46b1-af14-d3d3ab557427",
   "metadata": {},
   "outputs": [],
   "source": [
    "100 - (5 * 5) / 3"
   ]
  },
  {
   "cell_type": "markdown",
   "id": "5e121e5a-4d35-41d4-bf09-31b4e45a229a",
   "metadata": {},
   "source": [
    "Before we keep going forward, it will be helpful to introduce a simple concept. As you noticed, every time you run a cell, the computer will execute the commands you wrote and provide an answer. However, there are two scenarios in which this will not happen. The first case is when you write something Python (or the programming language you chose) does not understand. For instance, try to run the following cell:"
   ]
  },
  {
   "cell_type": "code",
   "execution_count": 2,
   "id": "a330580f-1eb0-48a8-a4f3-75f801500725",
   "metadata": {},
   "outputs": [
    {
     "ename": "SyntaxError",
     "evalue": "invalid syntax (904748880.py, line 1)",
     "output_type": "error",
     "traceback": [
      "\u001b[1;36m  Input \u001b[1;32mIn [2]\u001b[1;36m\u001b[0m\n\u001b[1;33m    100 minus 50\u001b[0m\n\u001b[1;37m        ^\u001b[0m\n\u001b[1;31mSyntaxError\u001b[0m\u001b[1;31m:\u001b[0m invalid syntax\n"
     ]
    }
   ],
   "source": [
    "100 minus 50"
   ]
  },
  {
   "cell_type": "markdown",
   "id": "8242461b-efa9-4cb3-88e5-abb099462773",
   "metadata": {},
   "source": [
    "Here Python does not recognise *minus* as a command; thus, it throws you an error. Try to get accustomed to these errors, you will encounter plenty of them while coding. If you find an error, try to read it (if it is short) because it might tell you exactly what the problem is. Furthermore, get accustomed to google your coding issues. More often than not, someone else has already encountered your problem, and others have kindly provided an answer. So, Google is your friend here, and that's fine. \n",
    "\n",
    "The second scenario where Python won't execute your commands is when you write a comment. Comments are used as notes to remind yourself and tell others what a chunk of code does. In Python, a comment starts with a **#**. For instance, if you run the following cell"
   ]
  },
  {
   "cell_type": "code",
   "execution_count": 3,
   "id": "b99e93fb-b698-4342-bf3b-f38e13b89b88",
   "metadata": {},
   "outputs": [
    {
     "data": {
      "text/plain": [
       "12"
      ]
     },
     "execution_count": 3,
     "metadata": {},
     "output_type": "execute_result"
    }
   ],
   "source": [
    "# This line is a comment and it wont be run. The next line is not a comment and it will be executed\n",
    "10 + 2"
   ]
  },
  {
   "cell_type": "markdown",
   "id": "178a0b9b-8947-474d-a0ae-578c2b339529",
   "metadata": {},
   "source": [
    "As you see, here you get the answer you expect from line two, while line one is not executed. If you need more clarification, remove the *#* from the previous cell and rerun it. What happens?\n",
    "\n",
    "**You should use comments extensively in your code** for multiple reasons. Firstly as a reminder for yourself. Imagine going back to your code after a few months to do a final review of your analysis. It is easy to forget why you wrote specific chunks and it could take lots of time to figure that out. With comments, you can avoid this problem. Secondly, comments are helpful to others who might read your code - your supervisor, your colleagues or someone reviewing your work. \n",
    "\n",
    "Sweet, now that we have specified this let's go back to the basic operations. \n",
    "\n",
    "## Operators\n",
    "\n",
    "Generally speaking, Python works performs *numerical* and *logical* operations. Numerical operations are the sort of mathematical operations we were doing before. Python has some basic math operators (an operator is a symbol you use to perform operations), which are:\n",
    "\n",
    "| Operation | Python operator |\n",
    "| --- | --- |\n",
    "| Sum | + |\n",
    "| Subtraction | - |\n",
    "| Multiplication | * |\n",
    "| Division | / |\n",
    "| Exponentiation | ** |\n",
    "| Reminder (aka Modulo) | % |\n",
    "| Integer Division | // |\n",
    "\n",
    "The first 5 are self-explanatory. The last two need more details. The *modulo* operator (*%*) gives you the reminder of the division between two numbers. For instance:\n",
    "\n",
    "$$ X \\text{%} Z $$ \n",
    "\n",
    "returns the reminder of $ \\frac{X}{Z} $ \n",
    "\n",
    "<div class=\"alert alert-success\"> X % Z is read as \"X modulo Z\" </div>\n",
    "\n",
    "Let's give it a try. If we ask Python to perform \n",
    "\n",
    "$$ 5 % 2 $$\n",
    "\n",
    "We expect to obtain 1, as the remainder of $ \\frac{5}{2} $ is 1. "
   ]
  },
  {
   "cell_type": "code",
   "execution_count": 4,
   "id": "5b36f037-6cae-482c-9d6e-9545dd306def",
   "metadata": {},
   "outputs": [
    {
     "data": {
      "text/plain": [
       "1"
      ]
     },
     "execution_count": 4,
     "metadata": {},
     "output_type": "execute_result"
    }
   ],
   "source": [
    "# Run the following cell. Is the result what you expect?\n",
    "5 % 2"
   ]
  },
  {
   "cell_type": "markdown",
   "id": "d03c1e04-849f-486e-bb58-0aa7f26a28c2",
   "metadata": {},
   "source": [
    "The modulo operator can be handy, so it is worth learning how to use it properly. We have just introduced its most straightforward usage here. In the exercises below, you will find more examples and particular cases to get you more familiar and comfortable with them. \n",
    "\n",
    "The last operator is the *integer division* (*//*). This is also called a \"floor division\" operator, as it returns the **truncated** result of the division between two numbers. Notably, the **result of the integer division is always the smaller, closer integer that is less or equal to the result of the division**. For instance, $ \\frac{10}{6} = 1.6666666666666667 $ and its smaller closer integer is 1. Indeed, if we ask Python to compute the integer division between 10 and 6, we obtain 1"
   ]
  },
  {
   "cell_type": "code",
   "execution_count": 8,
   "id": "44d26ccc-b43e-47a4-b5bb-32c99e78ecea",
   "metadata": {},
   "outputs": [
    {
     "data": {
      "text/plain": [
       "1"
      ]
     },
     "execution_count": 8,
     "metadata": {},
     "output_type": "execute_result"
    }
   ],
   "source": [
    "# Run the following cell\n",
    "10 // 6"
   ]
  },
  {
   "cell_type": "markdown",
   "id": "2a171314-a7a5-45b2-8caa-ab33c1480250",
   "metadata": {},
   "source": [
    "Now focus on this part *the result of the integer division is always the smaller, closer integer*. What happens if the result is a negative number? Let's first compute $ \\frac{10}{-6} $. The result is"
   ]
  },
  {
   "cell_type": "code",
   "execution_count": 11,
   "id": "98483ef4-9330-460b-8f8b-4b4c14e13866",
   "metadata": {},
   "outputs": [
    {
     "data": {
      "text/plain": [
       "-1.6666666666666667"
      ]
     },
     "execution_count": 11,
     "metadata": {},
     "output_type": "execute_result"
    }
   ],
   "source": [
    "# Run this cell to compute 10 / 6\n",
    "10 / -6"
   ]
  },
  {
   "cell_type": "markdown",
   "id": "1fb82875-eee2-417d-aa26-ea8a76be5082",
   "metadata": {},
   "source": [
    "What is the **smaller** closest integer to this result? Think about the answer to this question, then verify with Python in the cell below:"
   ]
  },
  {
   "cell_type": "code",
   "execution_count": null,
   "id": "a05015e3-24dc-4bbd-93cc-50121281af25",
   "metadata": {},
   "outputs": [],
   "source": [
    "# Use the integer division operator to verify your answer. What happens when the result of a division is negative?\n"
   ]
  },
  {
   "cell_type": "markdown",
   "id": "07f09976-3bdd-4186-a3a2-ced5d8a4f554",
   "metadata": {},
   "source": [
    "Do you understand why *10 // 6* and *10 // -6* provide two different results? If this is not completely clear, think about what is the smaller between 1 and 2 and between -1 and -2. \n",
    "\n",
    "Ok, this is it for the math operations. However, at the beginning of this section we said that Python can be used to perform another type of operation, the **logical operations**. These are operations that return as an answer *true* or *false*. For instance, we could ask Python to verify whether two numbers are the same or if a word (string) is longer than another, etc... The answer to this type of question is either true or false. Let's check this:"
   ]
  },
  {
   "cell_type": "code",
   "execution_count": 67,
   "id": "022d83ac-f8e8-423b-9165-ae7edb5a5479",
   "metadata": {},
   "outputs": [
    {
     "name": "stdout",
     "output_type": "stream",
     "text": [
      "True\n",
      "True\n",
      "False\n",
      "True\n"
     ]
    },
    {
     "ename": "TypeError",
     "evalue": "'str' object is not callable",
     "output_type": "error",
     "traceback": [
      "\u001b[1;31m---------------------------------------------------------------------------\u001b[0m",
      "\u001b[1;31mTypeError\u001b[0m                                 Traceback (most recent call last)",
      "Input \u001b[1;32mIn [67]\u001b[0m, in \u001b[0;36m<cell line: 16>\u001b[1;34m()\u001b[0m\n\u001b[0;32m     13\u001b[0m \u001b[38;5;28mprint\u001b[39m( (\u001b[38;5;241m100\u001b[39m \u001b[38;5;241m/\u001b[39m \u001b[38;5;241m25\u001b[39m) \u001b[38;5;241m==\u001b[39m \u001b[38;5;241m4\u001b[39m )\n\u001b[0;32m     15\u001b[0m \u001b[38;5;66;03m# Are the words \"house\" and \"mouse\" of the same lenght? - Here we use a function called len() to obtain the length of a string (series of carachters)\u001b[39;00m\n\u001b[1;32m---> 16\u001b[0m \u001b[38;5;28mprint\u001b[39m( \u001b[38;5;28;43mlen\u001b[39;49m\u001b[43m(\u001b[49m\u001b[38;5;124;43m\"\u001b[39;49m\u001b[38;5;124;43mhouse\u001b[39;49m\u001b[38;5;124;43m\"\u001b[39;49m\u001b[43m)\u001b[49m \u001b[38;5;241m==\u001b[39m \u001b[38;5;28mlen\u001b[39m(\u001b[38;5;124m\"\u001b[39m\u001b[38;5;124mmouse\u001b[39m\u001b[38;5;124m\"\u001b[39m) )\n",
      "\u001b[1;31mTypeError\u001b[0m: 'str' object is not callable"
     ]
    }
   ],
   "source": [
    "# Run this cell to check the output that Python provides. Do not worry about the print() statements, they arfe there just so all the answers are disdplayed.\n",
    "\n",
    "# Is 4 higher than 2?\n",
    "print(4 > 2)\n",
    "\n",
    "# Is 10 equal to 10?\n",
    "print(10 == 10)\n",
    "\n",
    "# Is 6 lower than 3?\n",
    "print(6 < 3)\n",
    "\n",
    "# Is the result of (100 / 25) equal to 4? - Note that here we use two operators \n",
    "print( (100 / 25) == 4 )\n",
    "\n",
    "# Are the words \"house\" and \"mouse\" of the same lenght? - Here we use a function called len() to obtain the length of a string (series of carachters)\n",
    "print( len(\"house\") == len(\"mouse\") )"
   ]
  },
  {
   "cell_type": "markdown",
   "id": "86a23bdf-6d36-4dbb-a6fc-b7193d8fdf3e",
   "metadata": {},
   "source": [
    "As you can see, the results are all True and False. So what are the basic logical operators in Python?\n",
    "\n",
    "| Operation | Python operator |\n",
    "| --- | --- |\n",
    "| Grater | > |\n",
    "| Lower | < |\n",
    "|Equal | == |\n",
    "| Different | != |\n",
    "| Greater or equal | >= |\n",
    "| Lower or equal | <= |\n",
    "| And | and |\n",
    "| Or | or |\n",
    "| Not | not |\n",
    "\n",
    "There are a couple of things here to highlight. The first 6 operators are, technically speaking,  *comparison operators* as they are used to compare two things. However, their result is a logical value, so it is simpler to consider them within the logical operators. Secondly, equal is *==* and **NOT =**. This is because the single equal sign is used to assign a value to a variable (see next section). Finally, the last three operators are the \"real\" logical operators in a stricter sense. In Python, they are spelt in words (this is a good example of the meaning of high-level language). We can use them to combine different evaluations. For instance, we can ask whether *(3 > 1) and ( 10 == 10)*. The answer to this question is *true*, as both evaluations return true."
   ]
  },
  {
   "cell_type": "code",
   "execution_count": 17,
   "id": "31edeedc-3c51-46a6-ae19-17b132f66c7d",
   "metadata": {},
   "outputs": [
    {
     "data": {
      "text/plain": [
       "True"
      ]
     },
     "execution_count": 17,
     "metadata": {},
     "output_type": "execute_result"
    }
   ],
   "source": [
    "# Let's check the result of (3 > 1) and ( 10 == 10)\n",
    "(3 > 1) and (10 == 10)"
   ]
  },
  {
   "cell_type": "markdown",
   "id": "d940e82b-cd44-442b-a914-6282ff120cf3",
   "metadata": {},
   "source": [
    "Note how beautifully simple Python is to read. Let's do something more complex."
   ]
  },
  {
   "cell_type": "code",
   "execution_count": 18,
   "id": "f9a64313-011e-4b88-aefd-e2431959a53f",
   "metadata": {},
   "outputs": [
    {
     "data": {
      "text/plain": [
       "True"
      ]
     },
     "execution_count": 18,
     "metadata": {},
     "output_type": "execute_result"
    }
   ],
   "source": [
    "# Here we ask if 3 to the power of 2 equals 9 OR 1 + 4 is less than 2. Remember that A or B is False only when both A and B are false, otherwise it is true\n",
    "( 3**2 == 9 ) or ( ( 1 + 4 ) < 2 )"
   ]
  },
  {
   "cell_type": "markdown",
   "id": "7408f895-95dc-41c1-8805-a1b5ad30478c",
   "metadata": {},
   "source": [
    "## Variables\n",
    "\n",
    "Ok, we have introduced the basic operations we can do in Python. Until now, we have only run simple lines of code to obtain specific results. However, what if you want to reuse the result of an operation? When you write a script, no matter how simple, you will likely want to store some results or values to reuse or manipulate them.\n",
    "To store a value, we use the **=** operator. Do you remember we said this is not used to check the equality of two values? Indeed, **=** is used to tell Python to save a value \"somewhere\". Let's see how first:"
   ]
  },
  {
   "cell_type": "code",
   "execution_count": 19,
   "id": "13e115c5-e31b-4530-80ea-326c8f2f8cf3",
   "metadata": {},
   "outputs": [
    {
     "data": {
      "text/plain": [
       "'The value stored in a is 10'"
      ]
     },
     "execution_count": 19,
     "metadata": {},
     "output_type": "execute_result"
    }
   ],
   "source": [
    "# Now we store the value 10 in a variable called a\n",
    "# Run this cell to see \n",
    "a = 10\n",
    "\n",
    "# Don't worry about this, it's just to print a nice result\n",
    "f\"The value stored in a is {a}\""
   ]
  },
  {
   "cell_type": "markdown",
   "id": "ae7092dd-bd00-4ea5-abb5-21936cd4ba1c",
   "metadata": {},
   "source": [
    "By writing *a = 10* we ask Python to save the value 10 in a **variable** called *a*. From now on, every time we call *a* we obtain 10:"
   ]
  },
  {
   "cell_type": "code",
   "execution_count": 20,
   "id": "bdd93023-28ce-4205-8229-d45e9a5e1392",
   "metadata": {},
   "outputs": [
    {
     "data": {
      "text/plain": [
       "10"
      ]
     },
     "execution_count": 20,
     "metadata": {},
     "output_type": "execute_result"
    }
   ],
   "source": [
    "# Type a and run the cell\n"
   ]
  },
  {
   "cell_type": "markdown",
   "id": "53cf7fba-a80c-41aa-aec3-0254f70708c7",
   "metadata": {},
   "source": [
    "You can think of *a* as a placeholder for the value it stores. Indeed, in this case we can use *a* to perform some operations. "
   ]
  },
  {
   "cell_type": "code",
   "execution_count": 21,
   "id": "819321a2-7742-4cb6-96cc-ce363def6548",
   "metadata": {},
   "outputs": [
    {
     "name": "stdout",
     "output_type": "stream",
     "text": [
      "15\n",
      "7\n",
      "3\n",
      "-2\n",
      "True\n"
     ]
    }
   ],
   "source": [
    "# Run this cell\n",
    "print( a + 5 )\n",
    "print( a - 3 )\n",
    "print( a // 3 )\n",
    "print( a % -6 )\n",
    "print( a == 10)"
   ]
  },
  {
   "cell_type": "markdown",
   "id": "b7d41aaf-f466-4629-8e2b-c03f3b18bbee",
   "metadata": {},
   "source": [
    "You might have noticed that I called *a* a variable. The reason for this is that the value of a variable can change. For instance, if we type *a = 20* we change the value stored in *a* to 20. Thus, if we perform the same operations as before, we obtain different resulst."
   ]
  },
  {
   "cell_type": "code",
   "execution_count": 22,
   "id": "ad8e3729-1ed4-4015-8b31-20ed9445f1a4",
   "metadata": {},
   "outputs": [
    {
     "name": "stdout",
     "output_type": "stream",
     "text": [
      "25\n",
      "17\n",
      "6\n",
      "-4\n",
      "False\n"
     ]
    }
   ],
   "source": [
    "# First we change the value sotred in a to 20\n",
    "a = 20\n",
    "\n",
    "# Then we perform the same operations as above\n",
    "print( a + 5 )\n",
    "print( a - 3 )\n",
    "print( a // 3 )\n",
    "print( a % -6 )\n",
    "print( a == 10)"
   ]
  },
  {
   "cell_type": "markdown",
   "id": "a685ea86-fa8b-4d41-8e56-fe9e1d8a6996",
   "metadata": {},
   "source": [
    "The important aspect to highlight here is that Python (like any other language) works sequentially, running one line at a time. This means that if we assign a value to a variable and then we assign another value, the first value is overwritten. "
   ]
  },
  {
   "cell_type": "code",
   "execution_count": 34,
   "id": "8c735006-cff5-48c7-a3a4-03a5729d701a",
   "metadata": {},
   "outputs": [
    {
     "name": "stdout",
     "output_type": "stream",
     "text": [
      "31\n"
     ]
    }
   ],
   "source": [
    "# What value will produce a when this cell is run? Think of an answer before running the cell\n",
    "a = 10\n",
    "a = 20\n",
    "a = 20 - 5\n",
    "a = 31\n",
    "print(a)"
   ]
  },
  {
   "cell_type": "markdown",
   "id": "7ed060ed-f37e-489e-b14a-a55fde82158b",
   "metadata": {},
   "source": [
    "Note, as a variable is a placeholder for a value, we can use it in any operation, even to update itself. For instance, consider the result above. Let's say we want to divide the value stored in a by 5 and save the result in itself (we want to update a). To do so, we can write:"
   ]
  },
  {
   "cell_type": "code",
   "execution_count": 35,
   "id": "faa60f4c-f28d-4cc6-bae8-8758930a01cc",
   "metadata": {},
   "outputs": [
    {
     "name": "stdout",
     "output_type": "stream",
     "text": [
      "6.2\n"
     ]
    }
   ],
   "source": [
    "a = a / 5\n",
    "print(a)\n"
   ]
  },
  {
   "cell_type": "markdown",
   "id": "44d6aa3b-5905-4b45-8f29-e05fe4512c0f",
   "metadata": {},
   "source": [
    "Note that a more \"pythonic\" way to write the expression above to update a variable is * a =/ 5 *. This is outside the scope of this tutorial, so if you are interested, you can read it [here](https://stackoverflow.com/questions/4841436/what-exactly-does-do). \n",
    "\n",
    "### Naming Rules\n",
    "The name of a variable can be anything you want. However, there are some rules, known as *naming rules* that you must follow:\n",
    "1. A variable name must start with a letter or an underscore ( _ )\n",
    "2. The rest of the variable name can contain letters, underscores and numbers\n",
    "3. Names are case sensitive, that is a and A are different variables\n",
    "4. Do not use names that already have a special meaning in Python\n",
    "\n",
    "Let's check these rules (run the following cells)"
   ]
  },
  {
   "cell_type": "code",
   "execution_count": 40,
   "id": "b9a6beb8-88b2-4a84-ab20-9974ff0d91b6",
   "metadata": {},
   "outputs": [
    {
     "ename": "SyntaxError",
     "evalue": "invalid decimal literal (1532636921.py, line 2)",
     "output_type": "error",
     "traceback": [
      "\u001b[1;36m  Input \u001b[1;32mIn [40]\u001b[1;36m\u001b[0m\n\u001b[1;33m    1_participant = \"John\"\u001b[0m\n\u001b[1;37m     ^\u001b[0m\n\u001b[1;31mSyntaxError\u001b[0m\u001b[1;31m:\u001b[0m invalid decimal literal\n"
     ]
    }
   ],
   "source": [
    "# If we try to create a variable calles 1_participant we get an error, because a variable cannot start with a number\n",
    "1_participant = \"John\""
   ]
  },
  {
   "cell_type": "code",
   "execution_count": 43,
   "id": "e55aa7ef-0e42-4076-809a-d56726e5b7a2",
   "metadata": {},
   "outputs": [
    {
     "name": "stdout",
     "output_type": "stream",
     "text": [
      "John\n"
     ]
    }
   ],
   "source": [
    "# we can use numbers and underscores in the remainder of the variable though\n",
    "participant_1 = \"John\"\n",
    "print(participant_1)"
   ]
  },
  {
   "cell_type": "code",
   "execution_count": 49,
   "id": "210f6096-5009-4ac8-b9df-ec432999f7ea",
   "metadata": {},
   "outputs": [
    {
     "name": "stdout",
     "output_type": "stream",
     "text": [
      "The variable \"participant_1\" contains the name: John\n",
      "The variable \"Participant_1\" contains the name Mark\n"
     ]
    }
   ],
   "source": [
    "# Capitalization matters!\n",
    "Participant_1 = \"Mark\"\n",
    "\n",
    "print(f'The variable \"participant_1\" contains the name: {participant_1}')\n",
    "print(f'The variable \"Participant_1\" contains the name: {Participant_1}')"
   ]
  },
  {
   "cell_type": "code",
   "execution_count": 52,
   "id": "8aafe996-93aa-46c1-aea1-a55836f96d75",
   "metadata": {},
   "outputs": [
    {
     "ename": "SyntaxError",
     "evalue": "invalid syntax (3748063648.py, line 3)",
     "output_type": "error",
     "traceback": [
      "\u001b[1;36m  Input \u001b[1;32mIn [52]\u001b[1;36m\u001b[0m\n\u001b[1;33m    and = 10\u001b[0m\n\u001b[1;37m    ^\u001b[0m\n\u001b[1;31mSyntaxError\u001b[0m\u001b[1;31m:\u001b[0m invalid syntax\n"
     ]
    }
   ],
   "source": [
    "# Python has some buil-in operators (as we saw above) or functions and you should avoid using them as a variable name.\n",
    "# If you try to use an operator or a function as a name you most likely get an error\n",
    "and = 10"
   ]
  },
  {
   "cell_type": "markdown",
   "id": "1fbb743b-6c18-4051-b8bb-c024a4fef5cd",
   "metadata": {},
   "source": [
    "<div class=\"alert alert-success\">When creating variables, try to use names that are easy to understand. For instance, if you want a variable to store the age of a participant, you could call it \"age\" or \"participant_age\" or even \"participantAge\" (if you don't like underscores). Although variable names can be as long as you want, it is good practice to keep them short so to not make the code difficult to read. In other words, try to strike a balance between clarity and readability. </div>"
   ]
  },
  {
   "cell_type": "markdown",
   "id": "0fc10f3a-f83e-4cad-867f-b103b1358039",
   "metadata": {},
   "source": [
    "### Classes\n",
    "\n",
    "Until now, we have generally talked about variables, and we have used numbers or words in our examples. To fully understand how to use Python (and how to code in general), we need to discuss what kind of \"things\" we can work with. What can we store in a variable? What operations can we perform? \n",
    "\n",
    "We will call the \"things\" we work with in Python, and also R and Matlab, ***objects***. An object is something that is characterised by a *state* and a *behaviour*. In this sense, a programming object is not really different from any object you see in the real world. For instance, your cup of coffee has a state (eg. empty/full) and a set of behaviours (you can change its position, you can change whether it's content, you can destroy it, etc...). Similarly, our variable *participant_1* has a state (currently *John*) and a set of behaviours (we can modify it in different ways through operators, for instance). Generally speaking, variables, functions, [methods](https://en.wikipedia.org/wiki/Method_(computer_programming) are all objects, and because of that, the languages we are going to use in this boot camp (Python, R and Matlab) are called *Object Oriented Languages*. \n",
    "\n",
    "As different objects in the real world behave differently - ice can melt at room temperature, a baby can cry, but not vice versa - different programming objects have different behaviours. The behaviour depends on the ***type*** of the object. Luckily, the number of *types* is limited, and most types are shared across programming languages. Here we will see Python's types (aka [classes](https://www.codecademy.com/resources/docs/python/classes)) in Python lingo.\n",
    "\n",
    "#### Integers\n",
    "These are positive or negative whole numbers, including zero. Examples of integers are 0, 10, -48. With integers, you can do pretty much anything you would expect from them, sums, subtractions, divisions, exponentiations, etc... Look at the operators for an idea.   "
   ]
  },
  {
   "cell_type": "code",
   "execution_count": 1,
   "id": "427c22d2-1a51-4123-9a1d-0394a83e68db",
   "metadata": {},
   "outputs": [
    {
     "data": {
      "text/plain": [
       "int"
      ]
     },
     "execution_count": 1,
     "metadata": {},
     "output_type": "execute_result"
    }
   ],
   "source": [
    "# We now create an object called my_int of type integer (int)\n",
    "my_int = 19\n",
    "# To verify that my_int is indeed an integer, we use the function `type`. What result do you get when you run this cell?\n",
    "type(my_int)"
   ]
  },
  {
   "cell_type": "markdown",
   "id": "c67167ba-d030-4b17-9d12-11ef752f84f4",
   "metadata": {},
   "source": [
    "#### Floats\n",
    "\n",
    "Floating-point numbers (floats) are positive or negative numbers with a decimal point. The value after the point can be anything, even zero; thus, every numeric object with a decimal value is a float. Some examples: 13.34, 9.98, 10.0, 35.0000, 32.959575939384758494038374. Again, the behaviour of floats is what you expect from numbers. "
   ]
  },
  {
   "cell_type": "code",
   "execution_count": 6,
   "id": "714aa763-832d-41cc-8251-8d238c603200",
   "metadata": {},
   "outputs": [
    {
     "name": "stdout",
     "output_type": "stream",
     "text": [
      "nope, you assigned the value 12, which is of type: <class 'int'>\n"
     ]
    }
   ],
   "source": [
    "# Create a float object called my_float. When you run this cell we will check that the object is indeed a float\n",
    "my_float = \n",
    "\n",
    "# Don't worry about this, it is just a check\n",
    "if type(my_float) is float:\n",
    "    print(\"Correct! that is a float!\")\n",
    "else:\n",
    "    print(f\"Nope, you assigned the value {my_float}, which is of type: {type(my_float)}\")"
   ]
  },
  {
   "cell_type": "markdown",
   "id": "f325c77c-039a-41c4-b680-5b06d40516d1",
   "metadata": {},
   "source": [
    "#### Booleans\n",
    "\n",
    "There are only two objects of type Boolean: `True` and `False`. Note that ***capitalisation matters!***. You must type these two objects with a capital *T* or a capital *F*. Booleans are useful in coding, and they pop up over and over, especially when we want to check something. They are usually created by logical operators or comparisons. Look at the example below:"
   ]
  },
  {
   "cell_type": "code",
   "execution_count": 8,
   "id": "87979811-11c7-40b3-8f0c-46fbf2933b34",
   "metadata": {},
   "outputs": [
    {
     "name": "stdout",
     "output_type": "stream",
     "text": [
      "the variable my_bool is an object of type: <class 'bool'> and it contains the value False\n"
     ]
    }
   ],
   "source": [
    "# The value of my_bool depends on the variable my_float you defined above\n",
    "# The use of < will produce a boolean, either True or False\n",
    "my_bool = my_float < 10\n",
    "print(f\"the variable my_bool is an object of type: {type(my_bool)} and it contains the value {my_bool}\")"
   ]
  },
  {
   "cell_type": "markdown",
   "id": "0bae25cc-9785-4626-b101-21675dade02c",
   "metadata": {},
   "source": [
    "There is a caveat we need to address, though. `True` and `False` are not only boolean objects but also integers"
   ]
  },
  {
   "cell_type": "code",
   "execution_count": 13,
   "id": "fedc5b2e-b1b2-4298-b44a-3151d94e782b",
   "metadata": {},
   "outputs": [
    {
     "data": {
      "text/plain": [
       "True"
      ]
     },
     "execution_count": 13,
     "metadata": {},
     "output_type": "execute_result"
    }
   ],
   "source": [
    "# Are True AND False integers?\n",
    "isinstance(True, int) and isinstance(False, int)"
   ]
  },
  {
   "cell_type": "markdown",
   "id": "0ed3da28-e062-4b80-aec1-9c44d66d8b64",
   "metadata": {},
   "source": [
    "The reason why this is the case is that often we represent true and false through binary code, specifically *true = 1* and *false = 0*. Ok, we said that different types have different behaviours, so does this means that True and False also behave like integers? Yup, it does! Check yourself:"
   ]
  },
  {
   "cell_type": "code",
   "execution_count": 14,
   "id": "f23e10dd-33b9-4c79-bd3b-5b9856deb459",
   "metadata": {},
   "outputs": [
    {
     "name": "stdout",
     "output_type": "stream",
     "text": [
      "11\n",
      "0.01\n",
      "2\n",
      "0\n"
     ]
    }
   ],
   "source": [
    "# Run this cell, then replace all 1s and 0s with True and False, respectively\n",
    "print(1+10)\n",
    "print(1/100)\n",
    "print(0+2)\n",
    "print(0**2)"
   ]
  },
  {
   "cell_type": "markdown",
   "id": "2bb5046b-1b05-4ff5-91ed-cdac5ef7dbfc",
   "metadata": {},
   "source": [
    "#### Strings\n",
    "\n",
    "You can think of strings as letters, words and sentences. They are extremely useful as they allow us to work not only with numbers but also with written stuff. There is heaps to say about strings, how to work with them and what cool things we can use Python for (eg. natural language learning), but these are outside the scope of this tutorial. For now, let's focus on just a couple of things. Firstly, how do we create a string?\n",
    "\n",
    "You might think you could type what you want and assign that to a variable."
   ]
  },
  {
   "cell_type": "code",
   "execution_count": 19,
   "id": "5853b1f5-5112-49eb-80a1-56fec2748697",
   "metadata": {},
   "outputs": [
    {
     "ename": "SyntaxError",
     "evalue": "invalid syntax (3718246284.py, line 2)",
     "output_type": "error",
     "traceback": [
      "\u001b[1;36m  Input \u001b[1;32mIn [19]\u001b[1;36m\u001b[0m\n\u001b[1;33m    my_string = I made you a pie. What flavour? Pie flavour!\u001b[0m\n\u001b[1;37m                  ^\u001b[0m\n\u001b[1;31mSyntaxError\u001b[0m\u001b[1;31m:\u001b[0m invalid syntax\n"
     ]
    }
   ],
   "source": [
    "# Run this cell, what happens?\n",
    "my_string = I made you a pie. What flavour? Pie flavour!"
   ]
  },
  {
   "cell_type": "markdown",
   "id": "5e68e365-6532-45f5-97f1-6a4468f4dd83",
   "metadata": {},
   "source": [
    "Python throws an error. The reason is that Python considers every word we type as a variable. Because those variables do not exist (and we also violated the syntax), we get an error. Indeed, notice that every variable is a word per se. So, to let Python know that what we are writing is a string, we need to use either:\n",
    "\n",
    "1. Single quotes: 'this is a string'\n",
    "2. Double quotes: \"this is a string\"\n",
    "3. Triple quotes: '''this is a string''' or \"\"\"this is a string\"\"\"\n",
    "\n",
    "For now, use only one of the first two options; triple quotes are usually reserved for specific cases. "
   ]
  },
  {
   "cell_type": "code",
   "execution_count": 22,
   "id": "bb274791-35cf-4d2e-b75d-befefe7b9ba7",
   "metadata": {},
   "outputs": [
    {
     "name": "stdout",
     "output_type": "stream",
     "text": [
      "nope, you assigned the value 10, which is of type: <class 'int'>\n"
     ]
    }
   ],
   "source": [
    "# Assign a string to the variable my_string then run the cell to check\n",
    "my_string = \n",
    "\n",
    "# Don't worry about this, it is just a check\n",
    "if type(my_string) is str:\n",
    "    print(\"Correct! that is a string!\")\n",
    "else:\n",
    "    print(f\"Nope, you assigned the value {my_string}, which is of type: {type(my_string)}\")"
   ]
  },
  {
   "cell_type": "markdown",
   "id": "1619120e-e443-4eb2-a4f8-b407a9fd59f7",
   "metadata": {},
   "source": [
    "Strings can be of any length and they can include spaces. The reason for this is that the space is just a special character. "
   ]
  },
  {
   "cell_type": "code",
   "execution_count": 24,
   "id": "f1e3f2d3-367b-42a8-817a-002e0beb4d38",
   "metadata": {},
   "outputs": [
    {
     "name": "stdout",
     "output_type": "stream",
     "text": [
      "short_string is of type: <class 'str'>\n",
      "medium_string is of type: <class 'str'>\n",
      "short_string is of type: <class 'str'>\n"
     ]
    }
   ],
   "source": [
    "short_string = \"s\"\n",
    "medium_string = \"this is a string\"\n",
    "long_string = \"this is a string with a lots of things! Look, we have so many spaces, commas and even other characters like *, %, ), ^, ', and 5\"\n",
    "\n",
    "print(f\"short_string is of type: {type(short_string)}\")\n",
    "print(f\"medium_string is of type: {type(medium_string)}\")\n",
    "print(f\"short_string is of type: {type(long_string)}\")"
   ]
  },
  {
   "cell_type": "markdown",
   "id": "2d920fb5-bce4-4529-b784-a1554ce43d04",
   "metadata": {},
   "source": [
    "Look at the long string. Do you notice anything strange? There are at least two things. Firstly, we can use single quotes inside double quotes (and vice versa). Indeed, I find it easier to always use double quotes for strings so that I won't encounter any problem if there is an apostrophe. Secondly, everything inside quotes is a string, even numbers or booleans. Indeed:"
   ]
  },
  {
   "cell_type": "code",
   "execution_count": 28,
   "id": "151be5cc-cd40-4f14-982e-de664050a295",
   "metadata": {},
   "outputs": [
    {
     "data": {
      "text/plain": [
       "True"
      ]
     },
     "execution_count": 28,
     "metadata": {},
     "output_type": "execute_result"
    }
   ],
   "source": [
    "# Use the type function to check that a number, written in quotes, is a string\n",
    "\n",
    "type()"
   ]
  },
  {
   "cell_type": "markdown",
   "id": "a1796428-e963-4a83-90f8-319ae3eec371",
   "metadata": {},
   "source": [
    "We will also highlight another important factor. Some functions and operators are shared across types, but their behaviour can vary. For instance, the `+` operator can be used to sums integers and floats. However, it can also be used with string! Run the following cell:"
   ]
  },
  {
   "cell_type": "code",
   "execution_count": 30,
   "id": "918b10ea-673c-47e9-95df-1b3ab5baedee",
   "metadata": {},
   "outputs": [
    {
     "data": {
      "text/plain": [
       "'what happens if we do this?'"
      ]
     },
     "execution_count": 30,
     "metadata": {},
     "output_type": "execute_result"
    }
   ],
   "source": [
    "# We now create two strings and we will try to use the + operator.\n",
    "first_str = \"what happens if \"\n",
    "second_str = \"we do this?\"\n",
    "\n",
    "first_str + second_str"
   ]
  },
  {
   "cell_type": "code",
   "execution_count": null,
   "id": "c901cfc1-76b8-4534-9318-cd4b3df5e6e2",
   "metadata": {},
   "outputs": [],
   "source": [
    "We can use the `*` operator too!"
   ]
  },
  {
   "cell_type": "code",
   "execution_count": 33,
   "id": "1af52867-bd52-4fef-9f55-20babec078aa",
   "metadata": {},
   "outputs": [
    {
     "ename": "TypeError",
     "evalue": "unsupported operand type(s) for ** or pow(): 'str' and 'int'",
     "output_type": "error",
     "traceback": [
      "\u001b[1;31m---------------------------------------------------------------------------\u001b[0m",
      "\u001b[1;31mTypeError\u001b[0m                                 Traceback (most recent call last)",
      "Input \u001b[1;32mIn [33]\u001b[0m, in \u001b[0;36m<cell line: 1>\u001b[1;34m()\u001b[0m\n\u001b[1;32m----> 1\u001b[0m \u001b[38;5;124;43m\"\u001b[39;49m\u001b[38;5;124;43mthree\u001b[39;49m\u001b[38;5;124;43m\"\u001b[39;49m\u001b[43m \u001b[49m\u001b[38;5;241;43m*\u001b[39;49m\u001b[38;5;241;43m*\u001b[39;49m\u001b[43m \u001b[49m\u001b[38;5;241;43m3\u001b[39;49m\n",
      "\u001b[1;31mTypeError\u001b[0m: unsupported operand type(s) for ** or pow(): 'str' and 'int'"
     ]
    }
   ],
   "source": [
    "\"three\" * 3"
   ]
  },
  {
   "cell_type": "markdown",
   "id": "0a8f6429-bf5a-404a-b517-e160f0a93c46",
   "metadata": {},
   "source": [
    "#### Lists\n",
    "\n",
    "What if we want to store multiple objects inside a single object? For instance, if we are working on an experiment, we might want to have an object containing the names of all the conditions we could present to the subject. To do this, we would create a `list`, which is, well, a list of objects. In Python, lists are created by using square brackets ([]). Elements of the list will be separated by a comma. Let's see an example:"
   ]
  },
  {
   "cell_type": "code",
   "execution_count": 3,
   "id": "ed3fd554-b487-489e-bbdf-9487401cfa73",
   "metadata": {},
   "outputs": [
    {
     "name": "stdout",
     "output_type": "stream",
     "text": [
      " condition is an object of type: <class 'list'>, containing three objects of type string: condition_A, condition_B, and condition_C\n"
     ]
    }
   ],
   "source": [
    "# We create a list containing the conditions of our experiment - Run this cell to create the condition object\n",
    "conditions = [\"condition_A\", \"condition_B\", \"condition_C\"]\n",
    "\n",
    "print(f\" condition is an object of type: {type(conditions)}, containing three objects of type string: {conditions[0]}, {conditions[1]}, and {conditions[2]}\")\n"
   ]
  },
  {
   "cell_type": "markdown",
   "id": "ebc3d2e7-9389-46c4-a0c3-a00e4c36cbfc",
   "metadata": {},
   "source": [
    "Note here that in our example the three objects are strings. However, you can store objects of different type, even other variables! For instance:"
   ]
  },
  {
   "cell_type": "code",
   "execution_count": 4,
   "id": "c98b69a6-dc81-4426-9c81-7448b9aa1c84",
   "metadata": {},
   "outputs": [
    {
     "name": "stdout",
     "output_type": "stream",
     "text": [
      "a string is an object of type: <class 'str'>\n",
      "1 is an object of type: <class 'int'>\n",
      "True is an object of type: <class 'bool'>\n",
      "0.64746 is an object of type: <class 'float'>\n",
      "['condition_A', 'condition_B', 'condition_C'] is an object of type: <class 'list'>\n"
     ]
    }
   ],
   "source": [
    "# A list with objects of different type - conditions is the list we created above\n",
    "my_list = [\"a string\", 1, True, 0.64746, conditions]\n",
    "\n",
    "# Here we use a for-loop to print the type of the objects stored in the variable my_list. We'll look at these loops soon\n",
    "for i in my_list:\n",
    "    print(f\"{i} is an object of type: {type(i)}\")"
   ]
  },
  {
   "cell_type": "markdown",
   "id": "7b3fa25d-fa34-40f0-91e3-7046db125c80",
   "metadata": {},
   "source": [
    "An important characteristic of lists is that you can modify them by adding new elements, removing existing elements or modifying them. For instance, we could use a function called `append` to add an element to the list we have created before. You will see that here we will use the function after the object we want to modify using a full stop. This is a specific style used in Python to apply [methods](https://docs.python.org/3/tutorial/classes.html#instance-objects). You could see a method as a function specific to an object class. Lists, strings, integers, etc... all have specific methods that you can apply to them. "
   ]
  },
  {
   "cell_type": "code",
   "execution_count": 5,
   "id": "5e097e1a-b6ae-4364-bb78-51f671019be5",
   "metadata": {},
   "outputs": [],
   "source": [
    "# create a variable called new_memeber - you can decide what type of variable it is - and we will add it to my_list with the append method\n",
    "new_member = \n",
    "\n",
    "my_list.append(new_member)\n",
    "print(my_list)"
   ]
  },
  {
   "cell_type": "markdown",
   "id": "9f9d214f-0d28-48f0-bd6f-cf0e9735f016",
   "metadata": {},
   "source": [
    "#### Tuples\n",
    "\n",
    "If lists are a set of objects that can be modified, `tuples` are a set of objects that cannot be changed; they are ***unchangeable***. We create tuples using round brackets (). To show the similarity between tuples and lists, we will create a tuple containing the same objects `my_list`. Then, we will show that, conversely to a list, we cannot add elements to a tuple, as it is unchangeable. "
   ]
  },
  {
   "cell_type": "code",
   "execution_count": 11,
   "id": "8ad90139-88db-4d8d-b693-f9915ef36d56",
   "metadata": {},
   "outputs": [
    {
     "ename": "TypeError",
     "evalue": "unhashable type: 'list'",
     "output_type": "error",
     "traceback": [
      "\u001b[1;31m---------------------------------------------------------------------------\u001b[0m",
      "\u001b[1;31mTypeError\u001b[0m                                 Traceback (most recent call last)",
      "Input \u001b[1;32mIn [11]\u001b[0m, in \u001b[0;36m<cell line: 2>\u001b[1;34m()\u001b[0m\n\u001b[0;32m      1\u001b[0m \u001b[38;5;66;03m# Below we have defined my_touple as a list ([]). Change the brakets so to make it a touple and then run the cell\u001b[39;00m\n\u001b[1;32m----> 2\u001b[0m my_tuple \u001b[38;5;241m=\u001b[39m {\u001b[38;5;124m\"\u001b[39m\u001b[38;5;124ma string\u001b[39m\u001b[38;5;124m\"\u001b[39m, \u001b[38;5;241m1\u001b[39m, \u001b[38;5;28;01mTrue\u001b[39;00m, \u001b[38;5;241m0.64746\u001b[39m, conditions}\n\u001b[0;32m      4\u001b[0m \u001b[38;5;28;01mif\u001b[39;00m \u001b[38;5;28mtype\u001b[39m(my_tuple) \u001b[38;5;129;01mis\u001b[39;00m \u001b[38;5;28mlist\u001b[39m:\n\u001b[0;32m      5\u001b[0m     \u001b[38;5;28mprint\u001b[39m(\u001b[38;5;124m\"\u001b[39m\u001b[38;5;124mNope! Square brakets are used to create lists! What brakets should you use for touples?\u001b[39m\u001b[38;5;124m\"\u001b[39m)\n",
      "\u001b[1;31mTypeError\u001b[0m: unhashable type: 'list'"
     ]
    }
   ],
   "source": [
    "# Below we have defined my_touple as a list ([]). Change the brakets so to make it a touple and then run the cell\n",
    "my_tuple = [\"a string\", 1, True, 0.64746, conditions]\n",
    "\n",
    "if type(my_tuple) is list:\n",
    "    print(\"Nope! Square brakets are used to create lists! What brakets should you use for touples?\")\n",
    "elif type(my_tuple) is tuple:\n",
    "    print(\"Correct!\")\n",
    "else:\n",
    "    print(\"This is neither a tuple nor a list. Did you modify something else other than the brakets?\")"
   ]
  },
  {
   "cell_type": "code",
   "execution_count": 12,
   "id": "a57ff8eb-02b7-404d-b761-86d2f0594bd5",
   "metadata": {},
   "outputs": [
    {
     "ename": "AttributeError",
     "evalue": "'tuple' object has no attribute 'append'",
     "output_type": "error",
     "traceback": [
      "\u001b[1;31m---------------------------------------------------------------------------\u001b[0m",
      "\u001b[1;31mAttributeError\u001b[0m                            Traceback (most recent call last)",
      "Input \u001b[1;32mIn [12]\u001b[0m, in \u001b[0;36m<cell line: 2>\u001b[1;34m()\u001b[0m\n\u001b[0;32m      1\u001b[0m \u001b[38;5;66;03m# Now, try to apply the append method to my_tuple to add the variable new_member (look at how we used it with my_list) \u001b[39;00m\n\u001b[1;32m----> 2\u001b[0m \u001b[43mmy_tuple\u001b[49m\u001b[38;5;241;43m.\u001b[39;49m\u001b[43mappend\u001b[49m(new_member)\n",
      "\u001b[1;31mAttributeError\u001b[0m: 'tuple' object has no attribute 'append'"
     ]
    }
   ],
   "source": [
    "# Now, try to apply the append method to my_tuple to add the variable new_member (look at how we used it with my_list) \n",
    "my_tuple."
   ]
  },
  {
   "cell_type": "markdown",
   "id": "d7498ed4-79ca-43a9-b737-5aa029bf1d41",
   "metadata": {},
   "source": [
    "The last cell should return an error saying *AttributeError: 'tuple' object has no attribute 'append'*. This is because tuples and lists have different methods, and the `append` method, used to modify a list, cannot be applied to tuples which are uncheangable. If you're wondering why Python has tuples and lists, you could think of tuples as a safer option than lists. With tuples, you do not run the risk of writing code that accidentally modifies some important values stored in them. On top of this, they tend to be processed faster; thus they can be handy when speed is vital. \n",
    "\n",
    "#### Dictionaries\n",
    "\n",
    "We finish this off by talking about a type of object commonly used in Python, *dictionaries*. Python dictionaries are very similar to the dictionaries you are more familiar with. If you open a dictionary, you see a set of keywords followed by some definitions. If you look into a Python dictionary, you would see something akin to this: a set of keywords (called *keys*), each one associated with a value (integer, float, string, list, tuple, etc...). The crucial aspect of dictionaries is that the association between key and value is strict: one key can only be associated with one value. Note that the opposite is not necessarily false. The same value can be associated with multiple keys. You can think of this in terms of synonyms. In a dictionary, one entry can have only one specific definition. However, the same definition might apply to other entries that are synonyms. \n",
    "\n",
    "To define a dictionary, we use the last pair of brackets we have left, the curly brackets ({}). Inside them, we create key-value pairs using the following syntax: *key:value*. Each pair is divided by a comma. Let's see an example."
   ]
  },
  {
   "cell_type": "code",
   "execution_count": 18,
   "id": "77117dd6-40e8-465c-a644-d0207ae20cde",
   "metadata": {},
   "outputs": [
    {
     "name": "stdout",
     "output_type": "stream",
     "text": [
      "{'name': 'daniele', 'age': 26, 'pizza': 'prosciutto, grana padano and rocket'}\n"
     ]
    }
   ],
   "source": [
    "# We will now create a dictionary containing my name, age and favourite pizza. \n",
    "daniele_dict = {\n",
    "    \"name\": \"daniele\",\n",
    "    \"age\": 26,\n",
    "    \"pizza\": \"prosciutto, grana padano and rocket\"\n",
    "}\n",
    "\n",
    "print(daniele_dict)"
   ]
  },
  {
   "cell_type": "code",
   "execution_count": 30,
   "id": "1072918a-99ef-4abc-8baa-96a329d95538",
   "metadata": {},
   "outputs": [
    {
     "name": "stdout",
     "output_type": "stream",
     "text": [
      "name -> casa\n",
      "age -> 23\n",
      "pizza -> no\n"
     ]
    }
   ],
   "source": [
    "# Now create a dictionary containing your name, age and favourite pizza\n",
    "my_dict = {\n",
    "    \"name\": ,\n",
    "    \"age\": ,\n",
    "    \"pizza\":  \n",
    "}\n",
    "\n",
    "# Don't worry about this, it's just for printing\n",
    "for key, value in my_dict.items():\n",
    "    print(f\"{key} -> {value}\")"
   ]
  },
  {
   "cell_type": "markdown",
   "id": "312dc4ae-12fd-4f11-a280-d3b6a2a9ce74",
   "metadata": {},
   "source": [
    "What do we notice? The most important thing is that the values can be of different types. Here we used strings and integers, but they can also be floats, lists, tuples, and even other dictionaries! Secondly, you might have wondered why each key is on a new line. That is just for readability, and it is optional for creating dictionaries. We can create my same dictionary as `daniele_dict = {\"name\": \"daniele\", \"age\": 26, \"pizza\": \"prosciutto, grana padano and rocket\"}`. As long as the key-vakue pairs are divided by a comma, we are all fine. "
   ]
  },
  {
   "cell_type": "markdown",
   "id": "94085252-0b72-4ec5-88d5-a3a44cc1a163",
   "metadata": {},
   "source": [
    "### Accessing values\n",
    "\n",
    "Lists, tuples and dictionaries are useful to store multiple values in a single object. Nonetheless, just storing values in not really useful if we don't have a way to use them. In this section, we will look at how to access the elements in lists, tuples and dictionaries. Let's begin with an example:"
   ]
  },
  {
   "cell_type": "code",
   "execution_count": 31,
   "id": "52162a7a-2d43-46e1-a1f3-b8e03b63f4e2",
   "metadata": {},
   "outputs": [
    {
     "name": "stdout",
     "output_type": "stream",
     "text": [
      "Hi casa! Really nice to meet you!\n",
      "My favourite pizza is prosciutto, grana padano and rocket, while yours is no\n"
     ]
    }
   ],
   "source": [
    "# Run this cell\n",
    "print(f\"Hi {my_dict['name']}! Really nice to meet you!\")\n",
    "print(f\"My favourite pizza is {daniele_dict['pizza']}, while yours is {my_dict['pizza']}\")"
   ]
  },
  {
   "cell_type": "markdown",
   "id": "a03ef530-d8a5-42e0-ba81-dea404a97ad2",
   "metadata": {},
   "source": [
    "In this example we can access the values we stored in the dictionary to write personalised sentences. This is similar to what mailing lists do: have a template with a placeholder and fill this up with values stored in a database. There are many, much more useful things we can do, but here we are interested in how we managed to retreive those values. If you look at the code, you will notice that we used the variables `my_dict` and `daniele_dict` followed by squared brackets. This is the trick, square brackets! If we write the name of a variable of type list, tuple or dictionary (and even strings) followed by *[]*, we are telling Python that we would like to retreive something from it. Obviously, telling Python that we want to retreive something is not enough, we also need to specify **what** we want to retreive. \n",
    "\n",
    "In case of dictionaries, the method is quite simple as it replicates what you would do with a real-life dictionary. If you need the definition of a word (key) you look for the word in the dictionary and you retreive the associated definition (value). Thus, in a Python dictionary you would type the key for which you want to retreive the value within the square brackets. Look again at the code above. When we needed to use your name we used `my_dict[\"name\"]`. Same with the pizza, `my_dict[\"pizza\"]`. Try yourself:"
   ]
  },
  {
   "cell_type": "code",
   "execution_count": 36,
   "id": "aba1ae66-750f-48f4-b19e-4a83a4eea2a0",
   "metadata": {},
   "outputs": [
    {
     "name": "stdout",
     "output_type": "stream",
     "text": [
      "Everyone agrees that the hawaiian pizza is the worst, no discussions!\n"
     ]
    }
   ],
   "source": [
    "# This is a dictionary containing some pieces of information\n",
    "pizza_dictionary = {\n",
    "    \"S_tier\": \"prosciutto, grana and rocket\",\n",
    "    \"A_tier\": (\"margherita\", \"capricciosa\", \"bufalina\"),\n",
    "    \"B_tier\": \"quattro formaggi\",\n",
    "    \"C_tier\": \"salame piccante\",\n",
    "    \"D_tier\": \"chicken and camembert\",\n",
    "    \"E_tier\": \"meatlover\",\n",
    "    \"F_tier\": \"hawaiian pizza - what the hell is not even a pizza\"\n",
    "}\n",
    "\n",
    "# Try to extract the requested information from the dictionary\n",
    "\n",
    "# The best pizza is:\n",
    "best_pizza = pizza_dictionary[]\n",
    "\n",
    "# The average (c tier) pizza is\n",
    "average_pizza = \n",
    "\n",
    "# The worst pizza that everyone agrees should not exist is\n",
    "worst_pizza = \n",
    "\n",
    "\n",
    "# Don't worry about this, it's just to check the answers\n",
    "if (best_pizza == \"prosciutto, grana and rocket\") and (average_pizza == \"salame piccante\") and (worst_pizza == \"hawaiian pizza - what the hell is not even a pizza\"):\n",
    "    print(\"Well done!\")\n",
    "else:\n",
    "    if best_pizza != \"prosciutto, grana and rocket\":\n",
    "        print(\"What is the tier S pizza?\")\n",
    "    elif average_pizza != \"salame piccante\":\n",
    "        print(\"What is the tier C pizza?\")\n",
    "    else:\n",
    "        print(\"Everyone agrees that the hawaiian pizza is the worst, no discussions!\")"
   ]
  },
  {
   "cell_type": "markdown",
   "id": "d3f575a4-a780-4e90-8fe7-bb9779251a9d",
   "metadata": {},
   "source": [
    "Easy eh? Now let's move on to how to access the information contained in lists and tuples. We will review only the simples method based on the position of the element(s) we need. However, keep in mind that other methods are available depending on what you need to achieve. \n",
    "\n",
    "When we create lists or tuples we add the values one after the other. Indeed, these objects are set of **ordered** values, where each value has its own position. Thus, if we want to retreive a specific value, we can use the position it occupies. This number, called *index*, is passed within the squared brackets as we did for dictionaries. "
   ]
  },
  {
   "cell_type": "code",
   "execution_count": 39,
   "id": "9e54bcd4-41ad-4162-a3be-9c367b3f2fee",
   "metadata": {},
   "outputs": [
    {
     "name": "stdout",
     "output_type": "stream",
     "text": [
      "Try again or read below!\n"
     ]
    }
   ],
   "source": [
    "# Here is a list of New Zealand birds\n",
    "animal_list = [\"kereru\", \"pukeko\", \"kea\", \"tui\"]\n",
    "\n",
    "# To retrieve \"kea\" we use its position (index) - Add it between the square brackets\n",
    "big_parrot = animal_list[]\n",
    "\n",
    "# Don't worry about this, it's just to check the answers\n",
    "if big_parrot == \"tui\":\n",
    "    print(\"Wait, what's going on? Read below!\")\n",
    "elif big_parrot == \"kea\":\n",
    "    print(\"You know some stuff!\")\n",
    "else:\n",
    "    print(\"Try again or read below!\")"
   ]
  },
  {
   "cell_type": "markdown",
   "id": "c3912e8a-c4bd-434d-a4c8-35bdcdf33248",
   "metadata": {},
   "source": [
    "If you used the index 3 and are wondering why it is wrong, that's normal. Python counting system is a bit special. Rather than starting from 1 as we normally do, it starts from 0. Tuus, the index of *kereru* is 0, the index of *pukeko* is 1, the index of *kea* is 2 and the index of *tui* is 3. It is important to pay attention to this behaviour as it is easy to forget about it and ending up with retrieving the wrong values. Note that the other two languages we use, R and Matlab, start counting from 1. Let's see another example:"
   ]
  },
  {
   "cell_type": "code",
   "execution_count": 40,
   "id": "72694930-dacb-4895-890b-50c3be98bd79",
   "metadata": {},
   "outputs": [
    {
     "ename": "NameError",
     "evalue": "name 'this_language' is not defined",
     "output_type": "error",
     "traceback": [
      "\u001b[1;31m---------------------------------------------------------------------------\u001b[0m",
      "\u001b[1;31mNameError\u001b[0m                                 Traceback (most recent call last)",
      "Input \u001b[1;32mIn [40]\u001b[0m, in \u001b[0;36m<cell line: 8>\u001b[1;34m()\u001b[0m\n\u001b[0;32m      2\u001b[0m languages \u001b[38;5;241m=\u001b[39m (\u001b[38;5;124m\"\u001b[39m\u001b[38;5;124mR\u001b[39m\u001b[38;5;124m\"\u001b[39m, \u001b[38;5;124m\"\u001b[39m\u001b[38;5;124mC++\u001b[39m\u001b[38;5;124m\"\u001b[39m, \u001b[38;5;124m\"\u001b[39m\u001b[38;5;124mC\u001b[39m\u001b[38;5;124m\"\u001b[39m, \u001b[38;5;124m\"\u001b[39m\u001b[38;5;124mRust\u001b[39m\u001b[38;5;124m\"\u001b[39m, \u001b[38;5;124m\"\u001b[39m\u001b[38;5;124mPython\u001b[39m\u001b[38;5;124m\"\u001b[39m, \u001b[38;5;124m\"\u001b[39m\u001b[38;5;124mJava\u001b[39m\u001b[38;5;124m\"\u001b[39m, \u001b[38;5;124m\"\u001b[39m\u001b[38;5;124mOctave\u001b[39m\u001b[38;5;124m\"\u001b[39m, \u001b[38;5;124m\"\u001b[39m\u001b[38;5;124mJulia\u001b[39m\u001b[38;5;124m\"\u001b[39m)\n\u001b[0;32m      4\u001b[0m \u001b[38;5;66;03m# Create the variable here\u001b[39;00m\n\u001b[0;32m      5\u001b[0m \n\u001b[0;32m      6\u001b[0m \n\u001b[0;32m      7\u001b[0m \u001b[38;5;66;03m# Don't worry about this, it's just to check the answer\u001b[39;00m\n\u001b[1;32m----> 8\u001b[0m \u001b[38;5;28;01mif\u001b[39;00m \u001b[43mthis_language\u001b[49m \u001b[38;5;241m!=\u001b[39m \u001b[38;5;124m\"\u001b[39m\u001b[38;5;124mPython\u001b[39m\u001b[38;5;124m\"\u001b[39m:\n\u001b[0;32m      9\u001b[0m     \u001b[38;5;28mprint\u001b[39m(\u001b[38;5;124m\"\u001b[39m\u001b[38;5;124mPay attention to the index! Python starts counting from zero!\u001b[39m\u001b[38;5;124m\"\u001b[39m)\n\u001b[0;32m     10\u001b[0m \u001b[38;5;28;01melse\u001b[39;00m:\n",
      "\u001b[1;31mNameError\u001b[0m: name 'this_language' is not defined"
     ]
    }
   ],
   "source": [
    "# retrieve \"python\" from the tuple below and store it in a variable called this_language\n",
    "languages = (\"R\", \"C++\", \"C\", \"Rust\", \"Python\", \"Java\", \"Octave\", \"Julia\")\n",
    "\n",
    "# Create the variable here\n",
    "\n",
    "\n",
    "# Don't worry about this, it's just to check the answer\n",
    "if this_language != \"Python\":\n",
    "    print(\"Pay attention to the index! Python starts counting from zero!\")\n",
    "else:\n",
    "    print(\"Correct!\")"
   ]
  },
  {
   "cell_type": "markdown",
   "id": "15c98c1b-45d1-4f0f-a5bf-871e685af2ff",
   "metadata": {},
   "source": [
    "Amazing! Now that we know how to extract one element counting from 0, let's see how to retrieve multiple values. The simples case is if we want to get values that are next to each other. For instance, we might want to get the languages *C, Rust, Python and Java*. To do this we need to pass two numbers between the square brackets. The first is the index of the first value, the second is the index of the last value we want. Try this below"
   ]
  },
  {
   "cell_type": "code",
   "execution_count": 41,
   "id": "270688d3-a970-4406-b80d-6fca48984cb1",
   "metadata": {},
   "outputs": [
    {
     "data": {
      "text/plain": [
       "('C', 'Rust', 'Python')"
      ]
     },
     "execution_count": 41,
     "metadata": {},
     "output_type": "execute_result"
    }
   ],
   "source": [
    "# Retrieve C, Rust, Python and Java from the tuple languages\n",
    "four_languages = languages[]\n",
    "\n",
    "# Don't worry about this, it's just to check the answer\n",
    "if \"Java\" not in four_languages:\n",
    "    print(\"Another weird thing, your variable contains the languages {four_languages}. what the heck? Read below!\")\n",
    "elif four_languages == ('C', 'Rust', 'Python', \"Java\"):\n",
    "    print(\"correct! When did you learn this?\")\n",
    "else:\n",
    "    print(\"There is something wrong. Check again or read below\")"
   ]
  },
  {
   "cell_type": "markdown",
   "id": "2a385772-9f17-448e-aa81-5a29dd6417ac",
   "metadata": {},
   "source": [
    "Ok, I forgot to tell you something. Not only Python starts counting from 0, but it also stops one index before the one you explicitly ask for. So, in the example above, the four languages we want have indices: 2,3,4, and 5. But, if you write `four_languages[2:5]` Python doesn't give you *Java*; it stops one item before. To obtain the last item we are looking for, we need to use `four_languages[2:6]`, that is, use the index if the value after the last we want. Again, this doesn't hold for R and Matlab, so pay attention when working with Python. "
   ]
  },
  {
   "cell_type": "code",
   "execution_count": 45,
   "id": "6ae8cfc1-8eb5-4043-b1a5-c7643884962b",
   "metadata": {},
   "outputs": [
    {
     "ename": "TypeError",
     "evalue": "tuple indices must be integers or slices, not tuple",
     "output_type": "error",
     "traceback": [
      "\u001b[1;31m---------------------------------------------------------------------------\u001b[0m",
      "\u001b[1;31mTypeError\u001b[0m                                 Traceback (most recent call last)",
      "Input \u001b[1;32mIn [45]\u001b[0m, in \u001b[0;36m<cell line: 1>\u001b[1;34m()\u001b[0m\n\u001b[1;32m----> 1\u001b[0m \u001b[43mlanguages\u001b[49m\u001b[43m[\u001b[49m\u001b[38;5;241;43m1\u001b[39;49m\u001b[43m,\u001b[49m\u001b[38;5;241;43m3\u001b[39;49m\u001b[43m,\u001b[49m\u001b[38;5;241;43m5\u001b[39;49m\u001b[43m]\u001b[49m\n",
      "\u001b[1;31mTypeError\u001b[0m: tuple indices must be integers or slices, not tuple"
     ]
    }
   ],
   "source": []
  },
  {
   "cell_type": "raw",
   "id": "1927ca74-15d1-4371-89b1-7cdf29f16af5",
   "metadata": {},
   "source": [
    "Unfortunately, accessing non-consequite values is less straightforward and involves concepts we won't cover here. I leave a few examples in the cell below if you are curious."
   ]
  },
  {
   "cell_type": "code",
   "execution_count": 53,
   "id": "3a09dab1-82af-41ab-a324-82d45faf0513",
   "metadata": {},
   "outputs": [
    {
     "name": "stdout",
     "output_type": "stream",
     "text": [
      "three_non_consecutive_values contains the values: ['C', 'Python', 'Octave']\n",
      "Variable c is: C, variable p is: Python, variable o is Octave\n",
      "['C' 'Python' 'Octave']\n"
     ]
    }
   ],
   "source": [
    "# Extract C, Python and Octave (idx 2,4,6) using...\n",
    "\n",
    "# ...List comprehension\n",
    "three_non_consecutive_values = [languages[v] for v in [2,4,6]]\n",
    "print(f\"three_non_consecutive_values contains the values: {three_non_consecutive_values}\")\n",
    "\n",
    "# multiple assignments\n",
    "c, p, o = languages[2], languages[4], languages[6]\n",
    "print(f\"Variable c is: {c}, variable p is: {p}, variable o is {o}\")\n",
    "\n",
    "# Using the numpy module\n",
    "import numpy as np\n",
    "print(np.array(languages)[[2,4,6]])"
   ]
  },
  {
   "cell_type": "markdown",
   "id": "204975a3-7f63-468b-b550-e5f676fd8c24",
   "metadata": {},
   "source": [
    "Finally, I very briefly hinted to the fact that you can retrieve values even from strings. I let you try this by yourself, but think about this. A string is a series of character all in a specific order. Thus, you can use the index of the characters you want to extract them. Just remember, ***spaces are character too!***. "
   ]
  },
  {
   "cell_type": "code",
   "execution_count": null,
   "id": "efbb97ce-9d7c-4c04-9f37-63b42b662c8b",
   "metadata": {},
   "outputs": [],
   "source": [
    "# From the following string. Write your answer inside the print statement\n",
    "my_string = \"This is a long string that you can use to practice how to extract values.\"\n",
    "\n",
    "# Extract the first letter (T)\n",
    "print()\n",
    "\n",
    "# Extract the first a\n",
    "print()\n",
    "\n",
    "# Extract the third space\n",
    "print()\n",
    "\n",
    "# Extract the last word\n",
    "print()\n",
    "\n",
    "# Extract \"string that you can use\"\n",
    "print()"
   ]
  }
 ],
 "metadata": {
  "kernelspec": {
   "display_name": "Python 3 (ipykernel)",
   "language": "python",
   "name": "python3"
  },
  "language_info": {
   "codemirror_mode": {
    "name": "ipython",
    "version": 3
   },
   "file_extension": ".py",
   "mimetype": "text/x-python",
   "name": "python",
   "nbconvert_exporter": "python",
   "pygments_lexer": "ipython3",
   "version": "3.9.12"
  }
 },
 "nbformat": 4,
 "nbformat_minor": 5
}
