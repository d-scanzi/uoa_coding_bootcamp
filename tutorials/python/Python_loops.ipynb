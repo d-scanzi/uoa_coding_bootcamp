{
 "cells": [
  {
   "cell_type": "markdown",
   "id": "a6a33a92-ece7-448c-8ecb-e5934e53ae1b",
   "metadata": {},
   "source": [
    "# Python Loops\n",
    "\n",
    "In this tutorial, we will understand how to repeat the same computation over and over again without the need to write the same lines of code multiple times. To achieve this, we will use ***for-loops*** and ***while-loops***, which will also use as an excuse to talk a bit more about booleans and conditions. \n",
    "\n",
    "## For-loops\n",
    "\n",
    "You have many friends, and you decide to say hi to each of them. However, you cannot be bothered to write a personal message to each and every person. So, you had the idea to write a template and print the same message but change the name of the person each time. Smart and efficient, but more importantly, easy to do! The first thing we want to have is a list of friends. By now, you should know how to create a list, so I will let you do that:"
   ]
  },
  {
   "cell_type": "code",
   "execution_count": 1,
   "id": "a37077a2-2280-42f4-a5b7-ffdc0a033013",
   "metadata": {},
   "outputs": [],
   "source": [
    "# Create a list called friends, containing the name of some friends - Note, you can also use a tuple\n",
    "friends = "
   ]
  },
  {
   "cell_type": "markdown",
   "id": "72c30392-9d3c-4d2e-884a-117469055d46",
   "metadata": {},
   "source": [
    "Now that we have the list, we need to create a message. For this example"
   ]
  },
  {
   "cell_type": "code",
   "execution_count": 2,
   "id": "3fdf6693-2ef2-415c-9875-30be523081ae",
   "metadata": {},
   "outputs": [],
   "source": [
    "# this is a simple template message. The name of the friend will be added at the end (Run the cell)\n",
    "template_message = \"This is a very personalised message for my best friend \""
   ]
  },
  {
   "cell_type": "markdown",
   "id": "b3a56d40-871a-4a4f-b19f-07345ceda7db",
   "metadata": {},
   "source": [
    "Sweet, and now let's print the messages. The idea here is to go over (iterate) each element contained in the `friends` variable (each name) and add it at the end of the message. To perform this iteration, we tell Python something like *for each name contained in friends, take the first one, add it to the message, print it, and move to the next name*. Through code, this is done as follows:"
   ]
  },
  {
   "cell_type": "code",
   "execution_count": 4,
   "id": "bbca2d02-abbf-4299-b8ac-538b1853747f",
   "metadata": {},
   "outputs": [
    {
     "name": "stdout",
     "output_type": "stream",
     "text": [
      "This is a very personalised message for my best friend Laura\n",
      "This is a very personalised message for my best friend Luca\n",
      "This is a very personalised message for my best friend franco\n"
     ]
    }
   ],
   "source": [
    "# For each name in the variable friends\n",
    "for name in friends:\n",
    "    # Add the name to the message (remember how some mathematical operators work for strings)\n",
    "    complete_message = template_message + name\n",
    "    # and print the whole message\n",
    "    print(complete_message)"
   ]
  },
  {
   "cell_type": "markdown",
   "id": "9da3e003-0e5e-43cf-839a-d466634f0b85",
   "metadata": {},
   "source": [
    "Let's unpack what's happening here. First, we tell Python that we are running a for-loop stating `for name in friends:`. This tells explicitly that we want to iterate over all the values stored in the list `friends`. Then, we have the **body** of the loop, which is the lines of code that should be run for each value in our list. In Python, the body of a loop must always be indented (one indentation) after the line that starts the loop. Moreover, when creating a loop, you need to use a column (:) at the end of the first line.\n",
    "\n",
    "<div class=\"alert alert-info\">In Python indentation matters! Loops and logical statements (if, else, elif) are hierarchical. First, you need to define what you want to loop over, and then you run the code.</div>\n",
    "\n",
    "As you can see, we have used a new variable not defined before, `name`. This variable is there as a placeholder for each value we iterate over. In other words, Python starts by extracting the first value from the list (first name) and assigns this to the variable `name`. The body of the loop is executed with the current value stored in `name`. When all the code lines in the loop body are executed, the second iteration begins. Now, Python will update the variable `name`, assigning it the second value stored in `friends`. Then, it runs the body with this new value. This cycle continues until all the values in `friends` have been used. \n",
    "\n",
    "Because `name` is a placeholder, we can call this variable as we want. Indeed, you will see that people often write something like `for i in friends` or `for k in friends` and so on. In this case, `i` or `k` are exactly the same as our `name`; a placeholder variable whose value is updated for every iteration. To prove this, let's run the same code replacing `name` with something else"
   ]
  },
  {
   "cell_type": "code",
   "execution_count": null,
   "id": "16d676b0-7c2e-4fe1-b0b8-bbe286240dea",
   "metadata": {},
   "outputs": [],
   "source": [
    "# run this cell\n",
    "for i in friends:\n",
    "    # Add the name to the message (remember how some mathematical operators work for strings)\n",
    "    complete_message = template_message + i\n",
    "    # and print the whole message\n",
    "    print(complete_message)"
   ]
  },
  {
   "cell_type": "markdown",
   "id": "70edd938-a524-4b6e-b9c9-05c5cb2b3dbf",
   "metadata": {},
   "source": [
    "And again"
   ]
  },
  {
   "cell_type": "code",
   "execution_count": null,
   "id": "acf32303-e3a5-4a15-bb86-4841b3b44f92",
   "metadata": {},
   "outputs": [],
   "source": [
    "# run this cell\n",
    "for pizza in friends:\n",
    "    # Add the name to the message (remember how some mathematical operators work for strings)\n",
    "    complete_message = template_message + pizza\n",
    "    # and print the whole message\n",
    "    print(complete_message)"
   ]
  },
  {
   "cell_type": "markdown",
   "id": "db80348b-1d0e-46e9-bb19-9498674e47e7",
   "metadata": {},
   "source": [
    "Note that we need to change the body of the loop according to the variable name we use in the for statement. \n",
    "\n",
    "At the moment, we are iterating over the content of a list. However, what if we want to repeat code that does not require a pre-existing variable? For instance, what if we want to print the word \"hello\" 10 times? To do this, we use the `range` function. To understand this, it is better to look at an example:"
   ]
  },
  {
   "cell_type": "code",
   "execution_count": 7,
   "id": "a72bcc3b-fb1a-434e-9ae9-98173748de08",
   "metadata": {},
   "outputs": [
    {
     "name": "stdout",
     "output_type": "stream",
     "text": [
      "0\n",
      "1\n",
      "2\n",
      "3\n",
      "4\n",
      "5\n",
      "6\n",
      "7\n",
      "8\n",
      "9\n",
      "10\n"
     ]
    }
   ],
   "source": [
    "# This loops prints the numbers from 0 to 10. \n",
    "for i in range(11):\n",
    "    print(i)"
   ]
  },
  {
   "cell_type": "markdown",
   "id": "5487fdec-e0dd-43c4-ac00-344d4786b7ca",
   "metadata": {},
   "source": [
    "The loop is very similar to the one we looked at before. It starts with a call to `for`, followed by the column (:) and a body indented underneath it. The only difference is that instead of having a variable form where to extract the values, we use `range`. You can think of `range` as creating a list of subsequent numbers. Note two things, though. Firstly, the list created by range starts at 0 and ends one number before the value you passed (10 instead of 11). We saw this exact same behaviour while discussing how to access values in lists, tuples or strings. Remember that Python starts counting from 0 and tends to stop one value before the one you define. \n",
    "\n",
    "In this case, we use `i` as a placeholder, but we could have used anything else as described before. Importantly, remember that at each iteration, `i`, or whatever you use, assumes a value that you can use for some computation. For instance, we might want to find the power of 2 of the first integers (0 to 9):"
   ]
  },
  {
   "cell_type": "code",
   "execution_count": 8,
   "id": "87b0079e-74ac-4876-b6ba-5fadc3fec037",
   "metadata": {},
   "outputs": [
    {
     "name": "stdout",
     "output_type": "stream",
     "text": [
      "0\n",
      "1\n",
      "4\n",
      "9\n",
      "16\n",
      "25\n",
      "36\n",
      "49\n",
      "64\n",
      "81\n"
     ]
    }
   ],
   "source": [
    "# Compute and print the square value of the first ten digits\n",
    "for k in range(10):\n",
    "    print(k ** 2)"
   ]
  },
  {
   "cell_type": "markdown",
   "id": "b8613aa0-47b3-435f-95ea-c0755bc43037",
   "metadata": {},
   "source": [
    "Or even:"
   ]
  },
  {
   "cell_type": "code",
   "execution_count": 12,
   "id": "7464eaed-eab0-45af-bce6-4166b3f5363d",
   "metadata": {},
   "outputs": [
    {
     "name": "stdout",
     "output_type": "stream",
     "text": [
      "[0.0, -0.33333333333333326, -0.6666666666666665, -1.0, -1.333333333333333, -1.666666666666667, -2.0, -2.333333333333334, -2.666666666666666, -3.0, -3.333333333333334, -3.666666666666666, -4.0, -4.333333333333332, -4.666666666666668, -5.0, -5.333333333333332, -5.666666666666668, -6.0, -6.333333333333332, -6.666666666666668]\n"
     ]
    }
   ],
   "source": [
    "# We now use the for loop to do some more computations\n",
    "\n",
    "# create an empty list where we will add all the result\n",
    "results = []\n",
    "\n",
    "for number in range(21):\n",
    "    # Change the sign to the current number\n",
    "    opposite = number * -1 \n",
    "    # Divide opposite by 3\n",
    "    opposite_divided = opposite / 3\n",
    "    # Sum opposite, opposite divided by three and the original number\n",
    "    current_result = opposite + opposite_divided + number\n",
    "    # Add (append) the result to the list\n",
    "    results.append(current_result)\n",
    "    \n",
    "# Now we are outised the loop as the code is not indented anymore\n",
    "print(results)"
   ]
  },
  {
   "cell_type": "markdown",
   "id": "3bd81b24-6b33-4940-a9e5-9985dc1dd027",
   "metadata": {},
   "source": [
    "This example allows us to see a couple of things. Firstly, we can add as many lines of code in the body of a loop as we want, and we don't necessarily need to use loops to print values. Secondly, the lines of code that come after a loop body ends (when we unindent) are executed only after all the iterations of the loop are completed. Therefore, the higher the number of iterations, the longer it will take for your script to move forward from the loop.\n",
    "\n",
    "### What for-loop to use\n",
    "\n",
    "It is important to address which of the two methods you should use. In general terms, if you want to iterate over the values of a list/tuples, then use the first method we showed (`for i in variable_name`). Instead, if you want to repeat some steps multiple times, use `range` (`for i in range()`). Note, however, that the second method can be used to replace the first by combining loops with accessing elements of a list. If we write something like `for i in range(10)`, we know that `i` will assume values from 1 to 9, one value for each iteration. Thus, we can exploit this to index the first ten elements of an object like a list, tuple or string. "
   ]
  },
  {
   "cell_type": "code",
   "execution_count": 6,
   "id": "64edb259-e2e1-4288-8fec-d1e509bbdc9b",
   "metadata": {},
   "outputs": [
    {
     "name": "stdout",
     "output_type": "stream",
     "text": [
      "first\n",
      "second\n",
      "third\n",
      "1000\n",
      "0.111\n",
      "a\n",
      "7th\n",
      "32.344\n",
      "98\n",
      "10\n"
     ]
    }
   ],
   "source": [
    "# We create a list of 15 elements\n",
    "my_list = [\"first\", \"second\", \"third\", 1000, 0.111, 'a', \"7th\", 32.344, 98, 10, 11, \"twelve\", 13, 14, 15.0]\n",
    "\n",
    "# We access and print the first 10 (0 to 9)\n",
    "for i in range(10):\n",
    "    print(my_list[i])"
   ]
  },
  {
   "cell_type": "markdown",
   "id": "c99cd3e3-9f56-4dd7-b161-ccb2d8b6fb99",
   "metadata": {},
   "source": [
    "Note how similar the result is to the output of `for i in my_list:`. However, using `range` we have the flexibility to define ***how many times*** we want to run the loop. Thus, another situation when you should use `range` is when you do not want to iterate over all the elements of a list/tuple/etc... or you have a specific number of elements to access. I would also highlight that in *R* and *Matlab* we usually use an approach similar to `range`, where the loop is used to create an index exploited to access elements stored in a variable. \n",
    "\n",
    "## While-loops\n",
    "\n",
    "For-loops are perfect for repeating lines of code a specific number of times. However, what if you do not know how many repetitions you need? For instance, Let's say I give you a number, and I ask you to divide that number by 1.5 until the result is lower than a specified threshold. That is, you need to stop the first time the result of the division is smaller than the threshold. I think it is clear that this is a situation when you need a loop as you need to repeat the same operation over and over. However, a for-loop would be tricky to use. Think about this, what would be the `range` of this loop? 10? 15? 20? Moreover, what if we change the initial number, the threshold or if I ask you to divide by 3.47545 instead?\n",
    "\n",
    "In this situation, we need a `while-loop`. This is a loop where we specify a condition, and the **body** of the loop is repeated until the condition is met. The syntax is pretty much the same as for the `for-loop`: an initial statement with the condition followed by a column (:) and a body made up of indented lines. "
   ]
  },
  {
   "cell_type": "code",
   "execution_count": 12,
   "id": "a9b954d5-9cb4-460a-b9d4-41c3e721232c",
   "metadata": {},
   "outputs": [
    {
     "name": "stdout",
     "output_type": "stream",
     "text": [
      "0.2857142857142857\n"
     ]
    }
   ],
   "source": [
    "# Given number N, D and threshold T, divide N by D until the result is lower than T. Print the result\n",
    "\n",
    "# Here we define our three values as three variables\n",
    "N = 126\n",
    "D = 21\n",
    "T = 1.5\n",
    "\n",
    "# We also define a variable where to store the result of each division. We start by making it equal to N\n",
    "current_result = N\n",
    "\n",
    "# Now we write the conditional statement of the while-loop. We need to run the loop until current_division is lower than T. \n",
    "# In other words, the loop should run while current_division is greater or equal to T and stop as soon as this condition is not met\n",
    "while current_result >= T:\n",
    "    \n",
    "    # Here we simply update current_division to be equal to. Because current_result is equal to N at the beginning, this line is like N/D \n",
    "    current_result = current_result / D\n",
    "    \n",
    "# When the loops end, we print the its result. Note that we are outside the body of the loop, as we unindented the lines.\n",
    "# This means that the next line will be run only AFTER the loop ends\n",
    "print(current_result)"
   ]
  },
  {
   "cell_type": "markdown",
   "id": "4dc96368-e375-4705-8cb3-b0e98e903b2a",
   "metadata": {},
   "source": [
    "The result is definitely lower than the threshold. Note also how similar the syntax is to the one used for the `for-loop`. The most important thing, however, is that we don't know how many times the loop was run. Just to verify that the `while-loop` is iterating and that the number of iterations depends on our parameters, let's run a small experiment. The next cell contains a loop that is set up to print the number of iterations. Run the cell and then change the parameters. What happens to the number of iterations?"
   ]
  },
  {
   "cell_type": "code",
   "execution_count": 1,
   "id": "71ef9fe9-87a7-4db8-b05e-a244eb778b37",
   "metadata": {},
   "outputs": [
    {
     "name": "stdout",
     "output_type": "stream",
     "text": [
      "Iteration number: 1 -> current_result: 289.8837209302326\n",
      "Iteration number: 2 -> current_result: 6.741481882098432\n",
      "Iteration number: 3 -> current_result: 0.15677864842089376\n"
     ]
    }
   ],
   "source": [
    "# Parameters that you can modify \n",
    "N = 12465\n",
    "D = 43\n",
    "T = 1\n",
    "\n",
    "# Do not change the next lines!\n",
    "\n",
    "current_result = N\n",
    "counter = 0 # We use this to count the number of iterations\n",
    "\n",
    "while current_result >= T:\n",
    "    \n",
    "    # Update counter (it starts from 1). Note that we use the short and more pythonian version for counter = counter + 1\n",
    "    counter += 1\n",
    "    \n",
    "    # Compute N/D and store the result in current_result. Again, we use the short version for current_result = current_result /= D\n",
    "    current_result /= D\n",
    "    \n",
    "    # Print informations on the loop\n",
    "    print(f\"Iteration number: {counter} -> current_result: {current_result}\")\n",
    "\n"
   ]
  },
  {
   "cell_type": "markdown",
   "id": "eea33784-6b14-413e-8be4-fafcda23c6c4",
   "metadata": {},
   "source": [
    "Try to modify the values of N, D and T and check the number of iterations. Please, keep D reasonably high (higher than 1) and T lower than N!\n",
    "This example allows us to highlight another important aspect of `while-loop` (and sometimes `for-loops` too: ***they can get stuck running forever***. \n",
    "\n",
    "<div class=\"alert alert-danger\">\n",
    "  This might crash your session! Be sure to save your files. To stop the loop from running, press the square button (stop) at the top of the page. If you want to try, set `T` lower than 0. \n",
    "</div>\n",
    "\n",
    "Before concluding with loops, it is worth mentioning another way to define the condition in a `while-loop`. Look at the `while-loops` we defined above. The condition is always a true-or-false statement. The result of `current_result >= T` is either `True` or `False`. Thus, the `while-loop` performs `current_result >= T` and if the result is `True`, it keeps going. If the result is `False`, it stops looping. Because of this, it is common to find loops with statements like `while True:`. Because a `while-loop` runs as long as the statement is `True`, such a loop would run forever. Indeed, when you find loops starting with something like `while True:`, look inside their body. You should see a line that says `break` or something similar. This is used to exit the loop when a condition is met. I leave an example here"
   ]
  },
  {
   "cell_type": "code",
   "execution_count": 18,
   "id": "5c3f5210-372e-458b-a37a-83d3803f9e4d",
   "metadata": {},
   "outputs": [
    {
     "name": "stdout",
     "output_type": "stream",
     "text": [
      "10000\n"
     ]
    }
   ],
   "source": [
    "# Create a variable that starts at 0. We are going to add 1 continuously until we reach 10000.\n",
    "x = 0\n",
    "\n",
    "# Set up a potentially endless while-loop\n",
    "while True:\n",
    "    \n",
    "    # Add 1 to x. Note again the use of the shorthand version for x = x + 1\n",
    "    x += 1 \n",
    "    \n",
    "    # Break out of the loop if x == 100000\n",
    "    if x == 10000:\n",
    "        break # Break is a special keyword used to force loops to stop\n",
    "\n",
    "# Print the result (it should be 10000)       \n",
    "print(x)"
   ]
  },
  {
   "cell_type": "code",
   "execution_count": 23,
   "id": "005d41f0-1a21-4902-9afd-b1a6349860b2",
   "metadata": {},
   "outputs": [
    {
     "name": "stdout",
     "output_type": "stream",
     "text": [
      "10000\n"
     ]
    }
   ],
   "source": [
    "# A similar example without using break.\n",
    "x = 0\n",
    "\n",
    "# Here we define a boolean variable with value True. \n",
    "# When we want to stop the loop, we set this variable to False\n",
    "continue_loop = True\n",
    "\n",
    "# Set up the loop as before. Note that as continue_loop = True, the next line is equivalent to while True\n",
    "while continue_loop:\n",
    "    \n",
    "    # Add 1 to x. Note again the use of the shorthand version for x = x + 1\n",
    "    x += 1 \n",
    "    # Break out of the loop if x == 100000. To do this we set contincontinue_loop to False\n",
    "    if x == 10000:\n",
    "        continue_loop = False\n",
    "\n",
    "# Print the result (it should be 10000)       \n",
    "print(x)       "
   ]
  }
 ],
 "metadata": {
  "kernelspec": {
   "display_name": "Python 3 (ipykernel)",
   "language": "python",
   "name": "python3"
  },
  "language_info": {
   "codemirror_mode": {
    "name": "ipython",
    "version": 3
   },
   "file_extension": ".py",
   "mimetype": "text/x-python",
   "name": "python",
   "nbconvert_exporter": "python",
   "pygments_lexer": "ipython3",
   "version": "3.9.12"
  }
 },
 "nbformat": 4,
 "nbformat_minor": 5
}
